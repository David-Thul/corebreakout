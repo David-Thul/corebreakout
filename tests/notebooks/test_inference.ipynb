{
 "cells": [
  {
   "cell_type": "code",
   "execution_count": 3,
   "metadata": {},
   "outputs": [],
   "source": [
    "from pathlib import Path\n",
    "\n",
    "from corebreakout import defaults, CoreSegmenter"
   ]
  },
  {
   "cell_type": "code",
   "execution_count": 2,
   "metadata": {},
   "outputs": [],
   "source": [
    "# Using images from mini testing dataset\n",
    "img_path_1 = '../data/two_image_dataset/S00101265.jpeg'\n",
    "img_path_2 = '../data/two_image_dataset/S00102673.jpeg'\n",
    "\n",
    "# Made up depth ranges s.t. stacking is allowed\n",
    "depth_ranges = [[1.0, 3.0], [3.0, 5.0]]"
   ]
  },
  {
   "cell_type": "code",
   "execution_count": null,
   "metadata": {},
   "outputs": [],
   "source": [
    "# Using default locations. Modify if desired.\n",
    "model_dir = defaults.MODEL_DIR\n",
    "weights_path = defaults.MODEL_DIR / # SOMETHING HERE\n",
    "\n",
    "# Instantiate with default config/kwargs\n",
    "segmenter = CoreSegmenter(model_dir, weights_path)"
   ]
  },
  {
   "cell_type": "code",
   "execution_count": null,
   "metadata": {},
   "outputs": [],
   "source": [
    "# Single image --> CoreColumn\n",
    "single_img_col = segmenter.segment(img_path_1, depth_ranges[0])"
   ]
  },
  {
   "cell_type": "code",
   "execution_count": null,
   "metadata": {},
   "outputs": [],
   "source": [
    "# Multiple images --> CoreColumn\n",
    "combined_imgs_col = segmenter.segment_all([img_path1, img_path_2], depth_ranges)"
   ]
  }
 ],
 "metadata": {
  "kernelspec": {
   "display_name": "Python 3",
   "language": "python",
   "name": "python3"
  },
  "language_info": {
   "codemirror_mode": {
    "name": "ipython",
    "version": 3
   },
   "file_extension": ".py",
   "mimetype": "text/x-python",
   "name": "python",
   "nbconvert_exporter": "python",
   "pygments_lexer": "ipython3",
   "version": "3.7.3"
  }
 },
 "nbformat": 4,
 "nbformat_minor": 2
}
